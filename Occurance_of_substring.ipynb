{
  "nbformat": 4,
  "nbformat_minor": 0,
  "metadata": {
    "colab": {
      "name": "Occurance of substring.ipynb",
      "provenance": [],
      "authorship_tag": "ABX9TyMWer1kH+HN/OVldbodcJJg",
      "include_colab_link": true
    },
    "kernelspec": {
      "name": "python3",
      "display_name": "Python 3"
    }
  },
  "cells": [
    {
      "cell_type": "markdown",
      "metadata": {
        "id": "view-in-github",
        "colab_type": "text"
      },
      "source": [
        "<a href=\"https://colab.research.google.com/github/khazihajira/Assignment-04-of-letsupgrade-batch-06-python-essentials/blob/master/Occurance_of_substring.ipynb\" target=\"_parent\"><img src=\"https://colab.research.google.com/assets/colab-badge.svg\" alt=\"Open In Colab\"/></a>"
      ]
    },
    {
      "cell_type": "markdown",
      "metadata": {
        "id": "OqGgAyXtxDSz",
        "colab_type": "text"
      },
      "source": [
        "#Program to find the occurance of substring in the given string"
      ]
    },
    {
      "cell_type": "code",
      "metadata": {
        "id": "NUqYzL2Zwt7_",
        "colab_type": "code",
        "colab": {
          "base_uri": "https://localhost:8080/",
          "height": 258
        },
        "outputId": "0b7aaab9-73f4-454b-bde8-6982ca2000bd"
      },
      "source": [
        " \n",
        "print(\" Program to find the occurrence of Substrings !! \\n\")\n",
        " \n",
        "str = input(\"Enter a sentence of your choice: \\n\").lower()\n",
        " \n",
        "search_letter = input(\"\\nEnter a Letter to be searched: \").lower()\n",
        " \n",
        "length = len(str)\n",
        "index = 0\n",
        " \n",
        "if length > 0:\n",
        "    if search_letter in sentence:\n",
        "        count = str.count(search_letter)\n",
        "        index = str.index(search_letter)\n",
        "        print(f\"\\nSubstring count: {count} \\n\")\n",
        "        print(f\"Length = {length} \\n\")\n",
        "        print(f\"Index of the Sub_String : {index} \\n\")\n",
        " \n",
        "    else:\n",
        "        print(\"\\nEnter a valid Search Letter !?! \\n\")"
      ],
      "execution_count": 3,
      "outputs": [
        {
          "output_type": "stream",
          "text": [
            " Program to find the occurrence of Substrings !! \n",
            "\n",
            "Enter a sentence of your choice: \n",
            "Do good , be good and feel good\n",
            "\n",
            "Enter a Letter to be searched: good\n",
            "\n",
            "Substring count: 3 \n",
            "\n",
            "Length = 31 \n",
            "\n",
            "Index of the Sub_String : 3 \n",
            "\n"
          ],
          "name": "stdout"
        }
      ]
    }
  ]
}