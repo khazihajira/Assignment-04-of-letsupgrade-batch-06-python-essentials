{
  "nbformat": 4,
  "nbformat_minor": 0,
  "metadata": {
    "colab": {
      "name": "Boolean methods (isupper and islower).ipynb",
      "provenance": [],
      "authorship_tag": "ABX9TyPL/m4GEe65Pj/Z4Lp9isaH",
      "include_colab_link": true
    },
    "kernelspec": {
      "name": "python3",
      "display_name": "Python 3"
    }
  },
  "cells": [
    {
      "cell_type": "markdown",
      "metadata": {
        "id": "view-in-github",
        "colab_type": "text"
      },
      "source": [
        "<a href=\"https://colab.research.google.com/github/khazihajira/Assignment-04-of-letsupgrade-batch-06-python-essentials/blob/master/Boolean_methods_(isupper_and_islower).ipynb\" target=\"_parent\"><img src=\"https://colab.research.google.com/assets/colab-badge.svg\" alt=\"Open In Colab\"/></a>"
      ]
    },
    {
      "cell_type": "markdown",
      "metadata": {
        "id": "a1nxMj-c3niJ",
        "colab_type": "text"
      },
      "source": [
        "#Name : Hajira Banu \n",
        "Grateful for letsupgrade community to provide us with such a good experience learning python , Thank you!!\n",
        "Being a letsupgrader"
      ]
    },
    {
      "cell_type": "markdown",
      "metadata": {
        "id": "lNqFDXay0NqR",
        "colab_type": "text"
      },
      "source": [
        "#To show the use of isupper () and islower() Boolean methods"
      ]
    },
    {
      "cell_type": "code",
      "metadata": {
        "id": "vdLLBEPgz6Gv",
        "colab_type": "code",
        "colab": {
          "base_uri": "https://localhost:8080/",
          "height": 51
        },
        "outputId": "611a3d99-6a6b-4bba-85ae-b403d56f6a04"
      },
      "source": [
        " \n",
        "print(\"Use of isupper()\") ii\n",
        "message = \"hello world!!\"\n",
        " \n",
        "show_change = message.isupper()\n",
        " \n",
        "print(show_change)"
      ],
      "execution_count": 1,
      "outputs": [
        {
          "output_type": "stream",
          "text": [
            "Use of isupper()\n",
            "False\n"
          ],
          "name": "stdout"
        }
      ]
    },
    {
      "cell_type": "code",
      "metadata": {
        "id": "Q6yvzihG1bwy",
        "colab_type": "code",
        "colab": {
          "base_uri": "https://localhost:8080/",
          "height": 34
        },
        "outputId": "1822bd91-5deb-4f1f-a1bd-348c4dd798d7"
      },
      "source": [
        " \n",
        "txt = \"YOU ONLY LIVE ONCE!\"\n",
        " \n",
        "x = txt.isupper()\n",
        " \n",
        "print(x)"
      ],
      "execution_count": 2,
      "outputs": [
        {
          "output_type": "stream",
          "text": [
            "True\n"
          ],
          "name": "stdout"
        }
      ]
    },
    {
      "cell_type": "code",
      "metadata": {
        "id": "G1UKIxwl14UW",
        "colab_type": "code",
        "colab": {
          "base_uri": "https://localhost:8080/",
          "height": 68
        },
        "outputId": "e547a438-8fe2-4789-d78d-0ecf892d8d54"
      },
      "source": [
        " \n",
        "a = \"Hello letsupgrade\"\n",
        "b = \"hello everyone\"\n",
        "c = \"MY NAME IS HAJ_AMI\"\n",
        " \n",
        "print(a.isupper())\n",
        "print(b.isupper())\n",
        "print(c.isupper())"
      ],
      "execution_count": 3,
      "outputs": [
        {
          "output_type": "stream",
          "text": [
            "False\n",
            "False\n",
            "True\n"
          ],
          "name": "stdout"
        }
      ]
    },
    {
      "cell_type": "code",
      "metadata": {
        "id": "YCw-zQLz2UwP",
        "colab_type": "code",
        "colab": {
          "base_uri": "https://localhost:8080/",
          "height": 68
        },
        "outputId": "0d704e15-e434-433a-de37-e91d81f7cc3a"
      },
      "source": [
        " \n",
        "print (\"Use of islower()\")\n",
        "str = \"THIS is string example....!!!\"\n",
        "print (str.islower())\n",
        " \n",
        "str = \"this is string example....!!!\"\n",
        "print (str.islower())"
      ],
      "execution_count": 4,
      "outputs": [
        {
          "output_type": "stream",
          "text": [
            "Use of islower()\n",
            "False\n",
            "True\n"
          ],
          "name": "stdout"
        }
      ]
    },
    {
      "cell_type": "code",
      "metadata": {
        "id": "CNLWvBXC2w4F",
        "colab_type": "code",
        "colab": {
          "base_uri": "https://localhost:8080/",
          "height": 173
        },
        "outputId": "21cca93b-6f80-4c3b-d790-0c6964082dce"
      },
      "source": [
        " \n",
        "Str=\"Hello\" \n",
        "help(Str.islower)"
      ],
      "execution_count": 6,
      "outputs": [
        {
          "output_type": "stream",
          "text": [
            "Help on built-in function islower:\n",
            "\n",
            "islower(...) method of builtins.str instance\n",
            "    S.islower() -> bool\n",
            "    \n",
            "    Return True if all cased characters in S are lowercase and there is\n",
            "    at least one cased character in S, False otherwise.\n",
            "\n"
          ],
          "name": "stdout"
        }
      ]
    },
    {
      "cell_type": "code",
      "metadata": {
        "id": "6tqRBHiq3MCO",
        "colab_type": "code",
        "colab": {
          "base_uri": "https://localhost:8080/",
          "height": 68
        },
        "outputId": "f6f6a961-2972-4dc0-e2da-78e068d3773c"
      },
      "source": [
        " \n",
        "Str1= \"Hello world!\"\n",
        "Str2= \"hello 123\"\n",
        "Str3= \"YOLO , but if you do it right once is enough\"\n",
        " \n",
        "print(Str1.islower())\n",
        "print(Str2.islower())\n",
        "print(Str3.islower())"
      ],
      "execution_count": 7,
      "outputs": [
        {
          "output_type": "stream",
          "text": [
            "False\n",
            "True\n",
            "False\n"
          ],
          "name": "stdout"
        }
      ]
    }
  ]
}